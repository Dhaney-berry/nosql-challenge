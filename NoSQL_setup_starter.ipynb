{
 "cells": [
  {
   "cell_type": "markdown",
   "id": "9a57c4c6",
   "metadata": {},
   "source": [
    "# Eat Safe, Love"
   ]
  },
  {
   "cell_type": "markdown",
   "id": "064ef857",
   "metadata": {},
   "source": [
    "## Part 1: Database and Jupyter Notebook Set Up"
   ]
  },
  {
   "cell_type": "markdown",
   "id": "664e3c1f",
   "metadata": {},
   "source": [
    "Import the data provided in the `establishments.json` file from your Terminal. Name the database `uk_food` and the collection `establishments`.\n",
    "\n",
    "Within this markdown cell, copy the line of text you used to import the data from your Terminal. This way, future analysts will be able to repeat your process.\n",
    "\n",
    "e.g.: Import the dataset with `YOUR IMPORT TEXT HERE`"
   ]
  },
  {
   "cell_type": "code",
   "execution_count": 4,
   "id": "3ecdd008",
   "metadata": {},
   "outputs": [],
   "source": [
    "# Import dependencies\n",
    "from pymongo import MongoClient\n",
    "from pprint import pprint"
   ]
  },
  {
   "cell_type": "code",
   "execution_count": 5,
   "id": "59390c4a",
   "metadata": {},
   "outputs": [],
   "source": [
    "# Create an instance of MongoClient\n",
    "mongo = MongoClient(port=27017)"
   ]
  },
  {
   "cell_type": "code",
   "execution_count": 6,
   "id": "71e373c1",
   "metadata": {},
   "outputs": [],
   "source": [
    "# assign the uk_food database to a variable name\n",
    "db = mongo['uk_food']"
   ]
  },
  {
   "cell_type": "code",
   "execution_count": 7,
   "id": "7f9ececa",
   "metadata": {},
   "outputs": [
    {
     "name": "stdout",
     "output_type": "stream",
     "text": [
      "Collections in 'uk_food' database: ['establishments']\n",
      "\n",
      "Sample document from 'establishments' collection:\n",
      "{'AddressLine1': '123 Food Street',\n",
      " 'AddressLine2': 'London',\n",
      " 'BusinessName': 'New Cafe',\n",
      " 'BusinessType': 'Restaurant/Cafe/Canteen',\n",
      " 'Latitude': 51.515,\n",
      " 'Longitude': -0.09,\n",
      " 'PostCode': 'EC1A 1AA',\n",
      " 'RatingValue': 4,\n",
      " '_id': ObjectId('67c66f61b4b8db15a2307b18')}\n"
     ]
    }
   ],
   "source": [
    "# confirm that our new database was created\n",
    "collections = db.list_collection_names()\n",
    "print(\"Collections in 'uk_food' database:\", collections)\n",
    "\n",
    "# Check if the 'establishments' collection exists\n",
    "if 'establishments' in collections:\n",
    "    print(\"\\nSample document from 'establishments' collection:\")\n",
    "    pprint(db.establishments.find_one())  # Print one sample document\n",
    "else:\n",
    "    print(\"\\n'establishments' collection not found in the database.\")"
   ]
  },
  {
   "cell_type": "code",
   "execution_count": 8,
   "id": "ef1b89ed",
   "metadata": {},
   "outputs": [
    {
     "name": "stdout",
     "output_type": "stream",
     "text": [
      "['establishments']\n"
     ]
    }
   ],
   "source": [
    "# review the collections in our new database\n",
    "print(db.list_collection_names())"
   ]
  },
  {
   "cell_type": "code",
   "execution_count": 9,
   "id": "18ab463c",
   "metadata": {},
   "outputs": [],
   "source": [
    "# review the collections in our new database\n",
    "##twice?"
   ]
  },
  {
   "cell_type": "code",
   "execution_count": 10,
   "id": "6a0d92df",
   "metadata": {},
   "outputs": [
    {
     "name": "stdout",
     "output_type": "stream",
     "text": [
      "{'AddressLine1': '123 Food Street',\n",
      " 'AddressLine2': 'London',\n",
      " 'BusinessName': 'New Cafe',\n",
      " 'BusinessType': 'Restaurant/Cafe/Canteen',\n",
      " 'Latitude': 51.515,\n",
      " 'Longitude': -0.09,\n",
      " 'PostCode': 'EC1A 1AA',\n",
      " 'RatingValue': 4,\n",
      " '_id': ObjectId('67c66f61b4b8db15a2307b18')}\n"
     ]
    }
   ],
   "source": [
    "# review a document in the establishments collection\n",
    "pprint(db.establishments.find_one())"
   ]
  },
  {
   "cell_type": "code",
   "execution_count": 11,
   "id": "11c9f11b",
   "metadata": {},
   "outputs": [],
   "source": [
    "# assign the collection to a variable\n",
    "establishments = db['establishments']"
   ]
  },
  {
   "cell_type": "markdown",
   "id": "d5671434",
   "metadata": {},
   "source": [
    "## Part 2: Update the Database"
   ]
  },
  {
   "cell_type": "markdown",
   "id": "314bd884",
   "metadata": {},
   "source": [
    "1. An exciting new halal restaurant just opened in Greenwich, but hasn't been rated yet. The magazine has asked you to include it in your analysis. Add the following restaurant \"Penang Flavours\" to the database."
   ]
  },
  {
   "cell_type": "code",
   "execution_count": 14,
   "id": "c2da7648",
   "metadata": {},
   "outputs": [],
   "source": [
    "# Create a dictionary for the new restaurant data\n",
    "new_restaurant = {\n",
    "    \"BusinessName\": \"Nando's\",\n",
    "    \"BusinessType\": \"Restaurant/Cafe/Canteen\",\n",
    "    \"AddressLine1\": \"43 Churchill Street\",\n",
    "    \"AddressLine2\": \"London\",\n",
    "    \"PostCode\": \"EC1A 1AA\",\n",
    "    \"RatingValue\": 4,\n",
    "    \"Latitude\": 51.515,\n",
    "    \"Longitude\": -0.09\n",
    "}"
   ]
  },
  {
   "cell_type": "code",
   "execution_count": 15,
   "id": "a6e5cece",
   "metadata": {},
   "outputs": [
    {
     "data": {
      "text/plain": [
       "InsertOneResult(ObjectId('67c671e619f176ade9467239'), acknowledged=True)"
      ]
     },
     "execution_count": 15,
     "metadata": {},
     "output_type": "execute_result"
    }
   ],
   "source": [
    "# Insert the new restaurant into the collection\n",
    "db.establishments.insert_one(new_restaurant)"
   ]
  },
  {
   "cell_type": "code",
   "execution_count": 16,
   "id": "63bb10f9",
   "metadata": {},
   "outputs": [
    {
     "name": "stdout",
     "output_type": "stream",
     "text": [
      "{'AddressLine1': '43 Churchill Street',\n",
      " 'AddressLine2': 'London',\n",
      " 'BusinessName': \"Nando's\",\n",
      " 'BusinessType': 'Restaurant/Cafe/Canteen',\n",
      " 'Latitude': 51.515,\n",
      " 'Longitude': -0.09,\n",
      " 'PostCode': 'EC1A 1AA',\n",
      " 'RatingValue': 4,\n",
      " '_id': ObjectId('67c671e619f176ade9467239')}\n"
     ]
    }
   ],
   "source": [
    "# Check that the new restaurant was inserted\n",
    "pprint(db.establishments.find_one({\"BusinessName\": \"Nando's\"}))\n"
   ]
  },
  {
   "cell_type": "markdown",
   "id": "0ef4395a",
   "metadata": {},
   "source": [
    "2. Find the BusinessTypeID for \"Restaurant/Cafe/Canteen\" and return only the `BusinessTypeID` and `BusinessType` fields."
   ]
  },
  {
   "cell_type": "code",
   "execution_count": 18,
   "id": "93c63829",
   "metadata": {},
   "outputs": [
    {
     "name": "stdout",
     "output_type": "stream",
     "text": [
      "{'BusinessType': 'Restaurant/Cafe/Canteen'}\n"
     ]
    }
   ],
   "source": [
    "# Find the BusinessTypeID for \"Restaurant/Cafe/Canteen\" and return only the BusinessTypeID and BusinessType fields\n",
    "query = {\"BusinessType\": \"Restaurant/Cafe/Canteen\"}\n",
    "business_type = db.establishments.find_one(query, {\"BusinessTypeID\": 1, \"BusinessType\": 1, \"_id\": 0})\n",
    "pprint(business_type)\n"
   ]
  },
  {
   "cell_type": "markdown",
   "id": "4e570caf",
   "metadata": {},
   "source": [
    "3. Update the new restaurant with the `BusinessTypeID` you found."
   ]
  },
  {
   "cell_type": "code",
   "execution_count": 20,
   "id": "7f599f3d",
   "metadata": {},
   "outputs": [
    {
     "name": "stdout",
     "output_type": "stream",
     "text": [
      "None\n"
     ]
    }
   ],
   "source": [
    "# Update the new restaurant with the correct BusinessTypeID\n",
    "business_type_id = business_type[\"BusinessType\"]\n",
    "\n",
    "restaurant_filter = {\"BusinessName\": \"Lou Manati's\"} \n",
    "\n",
    "update_query = {\"$set\": {\"BusinessTypeID\": business_type_id}}\n",
    "\n",
    "db.establishments.update_one(restaurant_filter, update_query)\n",
    "\n",
    "# Verify the update\n",
    "updated_restaurant = db.establishments.find_one(restaurant_filter)\n",
    "pprint(updated_restaurant)"
   ]
  },
  {
   "cell_type": "code",
   "execution_count": 21,
   "id": "1f2999ab-28de-40aa-823d-2621a5fccbb3",
   "metadata": {},
   "outputs": [
    {
     "name": "stdout",
     "output_type": "stream",
     "text": [
      "{'AddressLine1': '123 Food Street',\n",
      " 'AddressLine2': 'London',\n",
      " 'BusinessName': 'New Cafe',\n",
      " 'BusinessType': 'Restaurant/Cafe/Canteen',\n",
      " 'Latitude': 51.515,\n",
      " 'Longitude': -0.09,\n",
      " 'PostCode': 'EC1A 1AA',\n",
      " 'RatingValue': 4,\n",
      " '_id': ObjectId('67c66f61b4b8db15a2307b18')}\n"
     ]
    }
   ],
   "source": [
    "# Retrieve a single document to inspect field names\n",
    "document_sample = db.establishments.find_one()\n",
    "pprint(document_sample)\n"
   ]
  },
  {
   "cell_type": "code",
   "execution_count": 22,
   "id": "a6ad16f7",
   "metadata": {},
   "outputs": [
    {
     "name": "stdout",
     "output_type": "stream",
     "text": [
      "None\n"
     ]
    }
   ],
   "source": [
    "# Confirm that the new restaurant was updated\n",
    "updated_restaurant = db.establishments.find_one({\"BusinessName\": \"New Restaurant Name\"})\n",
    "pprint(updated_restaurant)"
   ]
  },
  {
   "cell_type": "markdown",
   "id": "67281254",
   "metadata": {},
   "source": [
    "4. The magazine is not interested in any establishments in Dover, so check how many documents contain the Dover Local Authority. Then, remove any establishments within the Dover Local Authority from the database, and check the number of documents to ensure they were deleted."
   ]
  },
  {
   "cell_type": "code",
   "execution_count": 24,
   "id": "768474a6",
   "metadata": {},
   "outputs": [
    {
     "name": "stdout",
     "output_type": "stream",
     "text": [
      "Number of establishments in Dover: 0\n"
     ]
    }
   ],
   "source": [
    "# Find how many documents have LocalAuthorityName as \"Dover\"\n",
    "dover_count = db.establishments.count_documents({\"LocalAuthorityName\": \"Dover\"})\n",
    "\n",
    "print(f\"Number of establishments in Dover: {dover_count}\")"
   ]
  },
  {
   "cell_type": "code",
   "execution_count": 25,
   "id": "a11d5f1b",
   "metadata": {},
   "outputs": [
    {
     "name": "stdout",
     "output_type": "stream",
     "text": [
      "Number of documents deleted: 0\n"
     ]
    }
   ],
   "source": [
    "# Delete all documents where LocalAuthorityName is \"Dover\"\n",
    "result = db.establishments.delete_many({\"LocalAuthorityName\": \"Dover\"})\n",
    "\n",
    "print(f\"Number of documents deleted: {result.deleted_count}\")\n"
   ]
  },
  {
   "cell_type": "code",
   "execution_count": 58,
   "id": "2a51aba0",
   "metadata": {},
   "outputs": [
    {
     "name": "stdout",
     "output_type": "stream",
     "text": [
      "Number of remaining documents with LocalAuthorityName as 'Dover': 0\n"
     ]
    }
   ],
   "source": [
    "# Check if any remaining documents include Dover\n",
    "remaining_documents = db.establishments.count_documents({\"LocalAuthorityName\": \"Dover\"})\n",
    "\n",
    "print(f\"Number of remaining documents with LocalAuthorityName as 'Dover': {remaining_documents}\")\n"
   ]
  },
  {
   "cell_type": "code",
   "execution_count": 60,
   "id": "8c356f7b",
   "metadata": {},
   "outputs": [
    {
     "name": "stdout",
     "output_type": "stream",
     "text": [
      "{'AddressLine1': '123 Food Street',\n",
      " 'AddressLine2': 'London',\n",
      " 'BusinessName': 'New Cafe',\n",
      " 'BusinessType': 'Restaurant/Cafe/Canteen',\n",
      " 'Latitude': 51.515,\n",
      " 'Longitude': -0.09,\n",
      " 'PostCode': 'EC1A 1AA',\n",
      " 'RatingValue': 4,\n",
      " '_id': ObjectId('67c66f61b4b8db15a2307b18')}\n"
     ]
    }
   ],
   "source": [
    "# Check that other documents remain with 'find_one'\n",
    "remaining_document = db.establishments.find_one()\n",
    "pprint(remaining_document)\n"
   ]
  },
  {
   "attachments": {},
   "cell_type": "markdown",
   "id": "e9f1662d",
   "metadata": {},
   "source": [
    "5. Some of the number values are stored as strings, when they should be stored as numbers."
   ]
  },
  {
   "attachments": {},
   "cell_type": "markdown",
   "id": "c46df2df",
   "metadata": {},
   "source": [
    "Use `update_many` to convert `latitude` and `longitude` to decimal numbers."
   ]
  },
  {
   "cell_type": "code",
   "execution_count": 62,
   "id": "fd4112ce",
   "metadata": {},
   "outputs": [
    {
     "name": "stdout",
     "output_type": "stream",
     "text": [
      "{'_id': ObjectId('67c66f61b4b8db15a2307b18')}\n"
     ]
    }
   ],
   "source": [
    "# Change the data type from String to Decimal for longitude and latitude\n",
    "db.establishments.update_many(\n",
    "    {\"latitude\": {\"$exists\": True}, \"longitude\": {\"$exists\": True}},  # Ensure fields exist\n",
    "    [\n",
    "        {\"$set\": {\n",
    "            \"latitude\": {\"$toDecimal\": \"$latitude\"},\n",
    "            \"longitude\": {\"$toDecimal\": \"$longitude\"}\n",
    "        }}])\n",
    "\n",
    "# Confirm data type change by retrieving one updated document\n",
    "updated_doc = db.establishments.find_one({}, {\"latitude\": 1, \"longitude\": 1})\n",
    "pprint(updated_doc)"
   ]
  },
  {
   "attachments": {},
   "cell_type": "markdown",
   "id": "142e319c",
   "metadata": {},
   "source": [
    "Use `update_many` to convert `RatingValue` to integer numbers."
   ]
  },
  {
   "cell_type": "code",
   "execution_count": 32,
   "id": "04430a5b",
   "metadata": {},
   "outputs": [
    {
     "data": {
      "text/plain": [
       "UpdateResult({'n': 0, 'nModified': 0, 'ok': 1.0, 'updatedExisting': False}, acknowledged=True)"
      ]
     },
     "execution_count": 32,
     "metadata": {},
     "output_type": "execute_result"
    }
   ],
   "source": [
    "# Set non 1-5 Rating Values to Null\n",
    "non_ratings = [\"AwaitingInspection\", \"Awaiting Inspection\", \"AwaitingPublication\", \"Pass\", \"Exempt\"]\n",
    "establishments.update_many({\"RatingValue\": {\"$in\": non_ratings}}, [ {'$set':{ \"RatingValue\" : None}} ])"
   ]
  },
  {
   "cell_type": "code",
   "execution_count": 33,
   "id": "92524ccc",
   "metadata": {},
   "outputs": [],
   "source": [
    "# Change the data type from String to Integer for RatingValue\n"
   ]
  },
  {
   "cell_type": "code",
   "execution_count": 34,
   "id": "0deacaf9",
   "metadata": {},
   "outputs": [],
   "source": [
    "# Check that the coordinates and rating value are now numbers\n"
   ]
  }
 ],
 "metadata": {
  "kernelspec": {
   "display_name": "Python 3 (ipykernel)",
   "language": "python",
   "name": "python3"
  },
  "language_info": {
   "codemirror_mode": {
    "name": "ipython",
    "version": 3
   },
   "file_extension": ".py",
   "mimetype": "text/x-python",
   "name": "python",
   "nbconvert_exporter": "python",
   "pygments_lexer": "ipython3",
   "version": "3.12.4"
  }
 },
 "nbformat": 4,
 "nbformat_minor": 5
}
